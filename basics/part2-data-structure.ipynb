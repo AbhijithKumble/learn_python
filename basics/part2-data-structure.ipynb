{
 "cells": [
  {
   "cell_type": "code",
   "execution_count": 1,
   "metadata": {},
   "outputs": [
    {
     "data": {
      "text/plain": [
       "'Overview of Built-In Sequences\\nThe standard library offers a rich selection of sequence types implemented in C:\\nContainer sequences\\nlist, tuple, and collections.deque can hold items of different types.\\n\\nFlat sequences\\nstr, bytes, bytearray, memoryview, and array.array hold items of one type.\\n\\nContainer sequences hold references to the objects they contain, which may be of any\\ntype, while flat sequences physically store the value of each item within its own memory\\nspace, and not as distinct objects. Thus, flat sequences are more compact, but they are\\nlimited to holding primitive values like characters, bytes, and numbers.\\n\\nAnother way of grouping sequence types is by mutability:\\nMutable sequences\\nlist, bytearray, array.array, collections.deque, and memoryview\\n\\nImmutable sequences\\ntuple, str, and bytes'"
      ]
     },
     "execution_count": 1,
     "metadata": {},
     "output_type": "execute_result"
    }
   ],
   "source": [
    "'''Overview of Built-In Sequences\n",
    "The standard library offers a rich selection of sequence types implemented in C:\n",
    "Container sequences\n",
    "list, tuple, and collections.deque can hold items of different types.\n",
    "\n",
    "Flat sequences\n",
    "str, bytes, bytearray, memoryview, and array.array hold items of one type.\n",
    "\n",
    "Container sequences hold references to the objects they contain, which may be of any\n",
    "type, while flat sequences physically store the value of each item within its own memory\n",
    "space, and not as distinct objects. Thus, flat sequences are more compact, but they are\n",
    "limited to holding primitive values like characters, bytes, and numbers.\n",
    "\n",
    "Another way of grouping sequence types is by mutability:\n",
    "Mutable sequences\n",
    "list, bytearray, array.array, collections.deque, and memoryview\n",
    "\n",
    "Immutable sequences\n",
    "tuple, str, and bytes'''"
   ]
  },
  {
   "cell_type": "code",
   "execution_count": 2,
   "metadata": {},
   "outputs": [
    {
     "name": "stdout",
     "output_type": "stream",
     "text": [
      "[36, 162, 163, 165, 8364, 164]\n",
      "['a', 'b', 'c', 'd']\n",
      "2\n",
      "[162, 163, 165, 8364, 164]\n",
      "36\n",
      "[162, 163, 165, 8364, 164]\n"
     ]
    }
   ],
   "source": [
    "symbols = '$¢£¥€¤'\n",
    "\n",
    "##codes = []\n",
    "##for symbol in symbols:\n",
    "##    codes.append(ord(symbol))\n",
    "##print(codes)\n",
    "\n",
    "codes = [ord(symbol) for symbol in symbols]\n",
    "print(codes)\n",
    "\n",
    "x = '2'\n",
    "d = [x for x in \"abcd\"]\n",
    "print(d)\n",
    "print(x)\n",
    "\n",
    "beyond_ascii = [ord(s) for s in symbols if ord(s) > 127]\n",
    "print(beyond_ascii)\n",
    "p = map(ord, symbols)\n",
    "print(next(p))\n",
    "beyond_ascii = list(filter(lambda c: c > 127, map(ord, symbols)))\n",
    "print(beyond_ascii)"
   ]
  },
  {
   "cell_type": "code",
   "execution_count": 3,
   "metadata": {},
   "outputs": [
    {
     "name": "stdout",
     "output_type": "stream",
     "text": [
      "(1, 2, 3, 4, 5, 6, 7, 8, 9, 10)\n",
      "                |   lat.    |   long.  \n",
      "Mexico City     |   19.4333 |  -99.1333\n",
      "New York-Newark |   40.8086 |  -74.0204\n",
      "Sao Paulo       |  -23.5478 |  -46.6358\n"
     ]
    }
   ],
   "source": [
    "## tuple\n",
    "print(tuple(range(1, 11)))\n",
    "\n",
    "\n",
    "metro_areas = [\n",
    "('Tokyo', 'JP', 36.933, (35.689722, 139.691667)), \n",
    "('Delhi NCR', 'IN', 21.935, (28.613889, 77.208889)),\n",
    "('Mexico City', 'MX', 20.142, (19.433333, -99.133333)),\n",
    "('New York-Newark', 'US', 20.104, (40.808611, -74.020386)),\n",
    "('Sao Paulo', 'BR', 19.649, (-23.547778, -46.635833)),\n",
    "]\n",
    "print('{:15} | {:^9} | {:^9}'.format('', 'lat.', 'long.'))\n",
    "fmt = '{:15} | {:9.4f} | {:9.4f}'\n",
    "for name, cc, pop, (latitude, longitude) in metro_areas: #\n",
    "    if longitude <= 0: \n",
    "        print(fmt.format(name, latitude, longitude))"
   ]
  },
  {
   "cell_type": "code",
   "execution_count": 22,
   "metadata": {},
   "outputs": [
    {
     "name": "stdout",
     "output_type": "stream",
     "text": [
      "6\n"
     ]
    },
    {
     "ename": "IndexError",
     "evalue": "list index out of range",
     "output_type": "error",
     "traceback": [
      "\u001b[0;31m---------------------------------------------------------------------------\u001b[0m",
      "\u001b[0;31mIndexError\u001b[0m                                Traceback (most recent call last)",
      "Cell \u001b[0;32mIn[22], line 8\u001b[0m\n\u001b[1;32m      6\u001b[0m k \u001b[38;5;241m=\u001b[39m [[\u001b[38;5;241m1\u001b[39m, \u001b[38;5;241m2\u001b[39m, \u001b[38;5;241m3\u001b[39m],[\u001b[38;5;241m4\u001b[39m, \u001b[38;5;241m5\u001b[39m, \u001b[38;5;241m6\u001b[39m]]\n\u001b[1;32m      7\u001b[0m \u001b[38;5;28mprint\u001b[39m(k[\u001b[38;5;241m1\u001b[39m][\u001b[38;5;241m2\u001b[39m])\n\u001b[0;32m----> 8\u001b[0m \u001b[38;5;28mprint\u001b[39m(\u001b[43mk\u001b[49m\u001b[43m[\u001b[49m\u001b[38;5;241;43m2\u001b[39;49m\u001b[43m]\u001b[49m[\u001b[38;5;241m.\u001b[39m\u001b[38;5;241m.\u001b[39m\u001b[38;5;241m.\u001b[39m])\n\u001b[1;32m      9\u001b[0m \u001b[38;5;28mprint\u001b[39m((\u001b[38;5;124m'\u001b[39m\u001b[38;5;124ma\u001b[39m\u001b[38;5;124m'\u001b[39m, \u001b[38;5;241m.\u001b[39m\u001b[38;5;241m.\u001b[39m\u001b[38;5;241m.\u001b[39m, \u001b[38;5;124m'\u001b[39m\u001b[38;5;124mz\u001b[39m\u001b[38;5;124m'\u001b[39m))\n",
      "\u001b[0;31mIndexError\u001b[0m: list index out of range"
     ]
    }
   ],
   "source": [
    "##slices and ellipsis\n",
    "s= [1,2,3,4,5,6,7,8,9,10]\n",
    "p=slice(2, 6)\n",
    "s[p]\n",
    "\n",
    "k = [[1, 2, 3],[4, 5, 6]]\n",
    "print(k[1][2])\n",
    "##\n",
    "''' \n",
    "    def f(arg1, ...)  ##... = other arguments\n",
    "'''\n",
    "print(('a', ..., 'z'))\n"
   ]
  }
 ],
 "metadata": {
  "kernelspec": {
   "display_name": "Python 3",
   "language": "python",
   "name": "python3"
  },
  "language_info": {
   "codemirror_mode": {
    "name": "ipython",
    "version": 3
   },
   "file_extension": ".py",
   "mimetype": "text/x-python",
   "name": "python",
   "nbconvert_exporter": "python",
   "pygments_lexer": "ipython3",
   "version": "3.12.3"
  }
 },
 "nbformat": 4,
 "nbformat_minor": 2
}
