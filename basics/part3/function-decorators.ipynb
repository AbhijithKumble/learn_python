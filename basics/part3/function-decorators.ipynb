{
 "cells": [
  {
   "cell_type": "code",
   "execution_count": null,
   "metadata": {},
   "outputs": [],
   "source": [
    "## Function decorators and closures \n",
    "\n",
    "## Decorator repalce the function\n",
    "def str_upper(func):\n",
    "    def inner():\n",
    "        str1 = func()\n",
    "        return str1.upper()\n",
    "    return inner\n",
    "\n",
    "@str_upper  ## decorator\n",
    "def print_str():\n",
    "    return \"good morning\"\n"
   ]
  },
  {
   "cell_type": "code",
   "execution_count": 2,
   "metadata": {},
   "outputs": [
    {
     "name": "stdout",
     "output_type": "stream",
     "text": [
      "Registering <function f1 at 0x7f493cdc5300>\n",
      "Registering <function f2 at 0x7f493cdc5580>\n",
      "running main()\n",
      "registery -> [<function f1 at 0x7f493cdc5300>, <function f2 at 0x7f493cdc5580>]\n",
      "Running f1\n",
      "Running f2\n",
      "Running f3\n"
     ]
    }
   ],
   "source": [
    "'''\n",
    "\n",
    "When Python Executes Decorators\n",
    "A key feature of decorators is that they run right after the decorated function is defined.\n",
    "That is usually at import time (i.e., when a module is loaded by Python). Consider\n",
    "registration.py in\n",
    "\n",
    "\n",
    "'''\n",
    "\n",
    "registry = []\n",
    "\n",
    "def register(func):\n",
    "    print(f\"Registering {func}\")\n",
    "    registry.append(func)\n",
    "    return func\n",
    "\n",
    "@register\n",
    "def f1():\n",
    "    print(\"Running f1\")\n",
    "\n",
    "@register\n",
    "def f2():\n",
    "    print(\"Running f2\")\n",
    "\n",
    "'''\n",
    "When Python executes the code for the decorator, it first registers the function f1. Then, when the module is loaded, the decorator is executed, and the function f1 is registered. Next, when the module is loaded, the decorator is executed again, and the function f2 is registered. The end result is that the registers list contains both f1 and f2, in that order.\n",
    "'''\n",
    "\n",
    "def f3():\n",
    "    print(\"Running f3\")\n",
    "\n",
    "def main():\n",
    "    print(\"running main()\")\n",
    "    print(\"registery ->\", registry)\n",
    "    f1()\n",
    "    f2()\n",
    "    f3()\n",
    "\n",
    "if __name__ == '__main__' :\n",
    "    main()"
   ]
  }
 ],
 "metadata": {
  "kernelspec": {
   "display_name": "Python 3",
   "language": "python",
   "name": "python3"
  },
  "language_info": {
   "codemirror_mode": {
    "name": "ipython",
    "version": 3
   },
   "file_extension": ".py",
   "mimetype": "text/x-python",
   "name": "python",
   "nbconvert_exporter": "python",
   "pygments_lexer": "ipython3",
   "version": "3.12.3"
  }
 },
 "nbformat": 4,
 "nbformat_minor": 2
}
