{
 "cells": [
  {
   "cell_type": "code",
   "execution_count": 39,
   "metadata": {},
   "outputs": [
    {
     "name": "stdout",
     "output_type": "stream",
     "text": [
      "<class '__main__.Card'>\n",
      "Card(rank='7', suit='diamonds')\n"
     ]
    }
   ],
   "source": [
    "import collections\n",
    "\n",
    "Card = collections.namedtuple('Card', ['rank', 'suit'])\n",
    "print(Card)\n",
    "print(Card('7', 'diamonds'))"
   ]
  },
  {
   "cell_type": "code",
   "execution_count": 40,
   "metadata": {},
   "outputs": [
    {
     "name": "stdout",
     "output_type": "stream",
     "text": [
      "['a', 'b', 's']\n",
      "['abs', 'def']\n"
     ]
    }
   ],
   "source": [
    "p = list('abs')\n",
    "print(p)\n",
    "s = list (['abs', 'def'])\n",
    "print(s)"
   ]
  },
  {
   "cell_type": "code",
   "execution_count": 41,
   "metadata": {},
   "outputs": [
    {
     "name": "stdout",
     "output_type": "stream",
     "text": [
      "('2', 'spades')\n",
      "('3', 'diamonds')\n",
      "('4', 'clubs')\n",
      "('5', 'hearts')\n"
     ]
    }
   ],
   "source": [
    "rank=[str(i) for i in range(2,11)]+['J','Q','K','A']\n",
    "suit = 'spades diamonds clubs hearts'.split() \n",
    "\n",
    "\n",
    "## nested for loop\n",
    "p = [(r, s,) for r in rank for s in suit]\n",
    "\n",
    "## smallest len objected is zipped with their corresponding element\n",
    "c = zip(rank, suit)\n",
    "for i in c:\n",
    "    print(i)"
   ]
  },
  {
   "cell_type": "code",
   "execution_count": 54,
   "metadata": {},
   "outputs": [],
   "source": [
    "import collections\n",
    "\n",
    "Card = collections.namedtuple('Card', ['rank', 'suit'])\n",
    "\n",
    "class Deck:\n",
    "    rank = [str(i) for i in range(2, 11)] + list('JQKA')\n",
    "    suit = 'spades diamonds clubs hearts'.split()\n",
    "\n",
    "    def __init__(self):\n",
    "        self._cards = [Card(r, s) for r in self.rank for s in self.suit] \n",
    "\n",
    "    def __getItem__(self, position):\n",
    "        return self._cards[position]\n",
    "    def __len__(self):\n",
    "##        return len(self._cards)  \n",
    "          return 32"
   ]
  },
  {
   "cell_type": "code",
   "execution_count": 43,
   "metadata": {},
   "outputs": [
    {
     "data": {
      "text/plain": [
       "'\\nIdentifiers:\\n-  Contain only (A-z, 0-9, and _ )\\n-  Start with a lowercase letter or _.\\n-  Single leading _ :  private\\n-  Double leading __ :  strong private\\n-  Start & End  __ : Language defined Special Name of Object/ Method\\n-  Class names start with an uppercase letter.\\n-\\n\\n'"
      ]
     },
     "execution_count": 43,
     "metadata": {},
     "output_type": "execute_result"
    }
   ],
   "source": [
    "\"\"\"\n",
    "Identifiers:\n",
    "-  Contain only (A-z, 0-9, and _ )\n",
    "-  Start with a lowercase letter or _.\n",
    "-  Single leading _ :  private\n",
    "-  Double leading __ :  strong private\n",
    "-  Start & End  __ : Language defined Special Name of Object/ Method\n",
    "-  Class names start with an uppercase letter.\n",
    "-\n",
    "\n",
    "\"\"\""
   ]
  },
  {
   "cell_type": "code",
   "execution_count": 44,
   "metadata": {},
   "outputs": [
    {
     "name": "stdout",
     "output_type": "stream",
     "text": [
      "[3, 4]\n",
      "<generator object <genexpr> at 0x7f3c16b7d700>\n",
      "[10, 9, 8, 7, 6, 5, 4, 3, 2, 1]\n"
     ]
    }
   ],
   "source": [
    "##lists\n",
    "\n",
    "s = [ 1, 2, 3, 4, 5, 6, 7, 8, 9, 10 ]\n",
    "print(s[2: 4 :1])\n",
    "## s[start : end(exclusive) : increment]\n",
    "print(''.join(str(i))  for i in reversed(s))\n",
    "##why cant i print the i\n",
    "print(list(reversed(s)))"
   ]
  },
  {
   "cell_type": "code",
   "execution_count": 55,
   "metadata": {},
   "outputs": [
    {
     "data": {
      "text/plain": [
       "32"
      ]
     },
     "execution_count": 55,
     "metadata": {},
     "output_type": "execute_result"
    }
   ],
   "source": [
    "deck=Deck()\n",
    "len(deck)  ## calls the __len__ method\n",
    "##Card('Q', 'hearts') in deck "
   ]
  }
 ],
 "metadata": {
  "kernelspec": {
   "display_name": "Python 3",
   "language": "python",
   "name": "python3"
  },
  "language_info": {
   "codemirror_mode": {
    "name": "ipython",
    "version": 3
   },
   "file_extension": ".py",
   "mimetype": "text/x-python",
   "name": "python",
   "nbconvert_exporter": "python",
   "pygments_lexer": "ipython3",
   "version": "3.12.3"
  }
 },
 "nbformat": 4,
 "nbformat_minor": 2
}
