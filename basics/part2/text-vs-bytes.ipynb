{
 "cells": [
  {
   "cell_type": "raw",
   "metadata": {},
   "source": [
    "The identity of a character—its code point—is a number from 0 to 1,114,111 (base\n",
    "10), shown in the Unicode standard as 4 to 6 hexadecimal digits with a “U+” pre‐\n",
    "fix. For example, the code point for the letter A is U+0041, the Euro sign is U+20AC,\n",
    "and the musical symbol G clef is assigned to code point U+1D11E. About 10% of\n",
    "the valid code points have characters assigned to them in Unicode 6.3,"
   ]
  },
  {
   "cell_type": "code",
   "execution_count": 3,
   "metadata": {},
   "outputs": [
    {
     "name": "stdout",
     "output_type": "stream",
     "text": [
      "b'caf\\xc3\\xa9'\n",
      "café\n"
     ]
    }
   ],
   "source": [
    "s = \"café\"\n",
    "k = s.encode(\"utf-8\")\n",
    "print(k)\n",
    "k = k.decode(\"utf-8\")\n",
    "print(k)"
   ]
  },
  {
   "cell_type": "code",
   "execution_count": null,
   "metadata": {},
   "outputs": [],
   "source": []
  }
 ],
 "metadata": {
  "kernelspec": {
   "display_name": "Python 3",
   "language": "python",
   "name": "python3"
  },
  "language_info": {
   "codemirror_mode": {
    "name": "ipython",
    "version": 3
   },
   "file_extension": ".py",
   "mimetype": "text/x-python",
   "name": "python",
   "nbconvert_exporter": "python",
   "pygments_lexer": "ipython3",
   "version": "3.12.3"
  }
 },
 "nbformat": 4,
 "nbformat_minor": 2
}
