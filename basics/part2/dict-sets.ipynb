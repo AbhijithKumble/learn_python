{
 "cells": [
  {
   "cell_type": "code",
   "execution_count": 32,
   "metadata": {},
   "outputs": [
    {
     "name": "stdout",
     "output_type": "stream",
     "text": [
      "True\n"
     ]
    }
   ],
   "source": [
    "## Dictionaries and sets\n",
    "\n",
    "# base of dictionaries is hash table \n",
    "\n",
    "from collections import abc\n",
    "\n",
    "my_dict = {}    \n",
    "print(isinstance(my_dict, abc.Mapping))\n",
    "## isinstance is better way to check type of dictionary"
   ]
  },
  {
   "cell_type": "markdown",
   "metadata": {},
   "source": [
    "What Is Hashable?\n",
    "Here is part of the definition of hashable from the Python Glossary:\n",
    "An object is hashable if it has a hash value which never changes during its lifetime (it\n",
    "needs a __hash__() method), and can be compared to other objects (it needs an\n",
    "__eq__() method). Hashable objects which compare equal must have the same hash\n",
    "value. […]"
   ]
  },
  {
   "cell_type": "code",
   "execution_count": 33,
   "metadata": {},
   "outputs": [
    {
     "name": "stdout",
     "output_type": "stream",
     "text": [
      "529344067295497451\n",
      "unhashable type: 'list'\n"
     ]
    }
   ],
   "source": [
    "# all immutable types are hashable and tuple is hashable if all of\n",
    "# its elements are hashable\n",
    "t = (1, 2, 3)\n",
    "print(hash(t))\n",
    "k = (1, 2, 3, [4, 5])\n",
    "try :\n",
    "    hash(k)\n",
    "except TypeError as e :\n",
    "    print(e)"
   ]
  },
  {
   "cell_type": "markdown",
   "metadata": {},
   "source": [
    "user defined datatypes are hashable because their hash value is their id "
   ]
  },
  {
   "cell_type": "code",
   "execution_count": 34,
   "metadata": {},
   "outputs": [
    {
     "data": {
      "text/plain": [
       "True"
      ]
     },
     "execution_count": 34,
     "metadata": {},
     "output_type": "execute_result"
    }
   ],
   "source": [
    "a = dict(one=1, two=2, three=3)\n",
    "b = {'one': 1, 'two': 2, 'three': 3}\n",
    "c = dict(zip(['one', 'two', 'three'], [1, 2, 3]))\n",
    "d = dict([('two', 2), ('one', 1), ('three', 3)])\n",
    "e = dict({'three': 3, 'one': 1, 'two': 2})\n",
    "a == b == c == d == e"
   ]
  },
  {
   "cell_type": "code",
   "execution_count": 35,
   "metadata": {},
   "outputs": [
    {
     "name": "stdout",
     "output_type": "stream",
     "text": [
      "{'China': 86, 'India': 91, 'United States': 1, 'Indonesia': 62, 'Brazil': 55, 'Pakistan': 92, 'Bangladesh': 880, 'Nigeria': 234, 'Russia': 7, 'Japan': 81}\n",
      "{1: 'UNITED STATES', 62: 'INDONESIA', 55: 'BRAZIL', 7: 'RUSSIA'}\n"
     ]
    }
   ],
   "source": [
    "DIAL_CODES = [\n",
    "(86, 'China'),\n",
    "(91, 'India'),\n",
    "(1, 'United States'),\n",
    "(62, 'Indonesia'),\n",
    "(55, 'Brazil'),\n",
    "(92, 'Pakistan'),\n",
    "(880, 'Bangladesh'),\n",
    "(234, 'Nigeria'),\n",
    "(7, 'Russia'),\n",
    "(81, 'Japan'),\n",
    "]\n",
    "country_code = {country: code for code, country in DIAL_CODES}\n",
    "print(country_code)\n",
    "## country is key and code is value in country_code.items() \n",
    "print({code: country.upper() for country , code in country_code.items() if code < 66})"
   ]
  },
  {
   "cell_type": "markdown",
   "metadata": {},
   "source": [
    "A subtle mapping method is setdefault. We don’t always need it, but when we do, it\n",
    "provides a significant speedup by avoiding redundant key lookups. If you are not com‐\n",
    "fortable using it, the following section explains how, through a practical example."
   ]
  },
  {
   "cell_type": "markdown",
   "metadata": {},
   "source": [
    "Since dictionaries are mutable there is a non-standard library that implements immutable mapping\n",
    "MappingProxyType builds a read-only mappingproxy instance from a dict"
   ]
  },
  {
   "cell_type": "markdown",
   "metadata": {},
   "source": [
    "# Set theory "
   ]
  },
  {
   "cell_type": "markdown",
   "metadata": {},
   "source": [
    "set and its immutable sibling frozenset\n",
    "\n",
    "set elements must be hashable\n",
    "\n",
    "set type is not hashable but frozen set is\n",
    "so u can have frozen set inside a set  "
   ]
  },
  {
   "cell_type": "code",
   "execution_count": 36,
   "metadata": {},
   "outputs": [
    {
     "name": "stdout",
     "output_type": "stream",
     "text": [
      "3\n",
      "3\n"
     ]
    }
   ],
   "source": [
    "needles  = [1, 2, 3]\n",
    "haystack = [4, 5, 6, 1, 2, 3]\n",
    "\n",
    "\n",
    "found = len(set(needles) & set(haystack))\n",
    "print(found)\n",
    "# another way:\n",
    "found = len(set(needles).intersection(haystack))\n",
    "print(found)"
   ]
  },
  {
   "cell_type": "code",
   "execution_count": 37,
   "metadata": {},
   "outputs": [
    {
     "name": "stdout",
     "output_type": "stream",
     "text": [
      "set()\n",
      "{1}\n",
      "<class 'set'>\n"
     ]
    }
   ],
   "source": [
    "## to get an empty set set() not set({}) -> this creates a dictionary \n",
    "\n",
    "s = set()   \n",
    "print(s) # set()\n",
    "s =set({1})\n",
    "print(s)\n",
    "print(type(s)) # set()    "
   ]
  },
  {
   "cell_type": "code",
   "execution_count": 38,
   "metadata": {},
   "outputs": [
    {
     "name": "stdout",
     "output_type": "stream",
     "text": [
      "  0           0 RESUME                   0\n",
      "\n",
      "  1           2 LOAD_CONST               0 (1)\n",
      "              4 BUILD_SET                1\n",
      "              6 RETURN_VALUE\n"
     ]
    }
   ],
   "source": [
    "from dis import dis \n",
    "dis('{1}')"
   ]
  },
  {
   "cell_type": "code",
   "execution_count": 39,
   "metadata": {},
   "outputs": [
    {
     "name": "stdout",
     "output_type": "stream",
     "text": [
      "  0           0 RESUME                   0\n",
      "\n",
      "  1           2 PUSH_NULL\n",
      "              4 LOAD_NAME                0 (set)\n",
      "              6 LOAD_CONST               0 (1)\n",
      "              8 LOAD_CONST               1 (2)\n",
      "             10 BUILD_LIST               2\n",
      "             12 CALL                     1\n",
      "             20 RETURN_VALUE\n",
      "  0           0 RESUME                   0\n",
      "\n",
      "  1           2 PUSH_NULL\n",
      "              4 LOAD_NAME                0 (set)\n",
      "              6 LOAD_CONST               0 (1)\n",
      "              8 LOAD_CONST               1 (2)\n",
      "             10 BUILD_SET                2\n",
      "             12 CALL                     1\n",
      "             20 RETURN_VALUE\n"
     ]
    }
   ],
   "source": [
    "dis('set([1, 2])')\n",
    "dis('set({1, 2})')"
   ]
  },
  {
   "cell_type": "code",
   "execution_count": 40,
   "metadata": {},
   "outputs": [
    {
     "data": {
      "text/plain": [
       "frozenset({0, 1, 2, 3, 4, 5, 6, 7, 8, 9})"
      ]
     },
     "execution_count": 40,
     "metadata": {},
     "output_type": "execute_result"
    }
   ],
   "source": [
    "frozenset(range(10))"
   ]
  },
  {
   "cell_type": "markdown",
   "metadata": {},
   "source": [
    "# set comprehension "
   ]
  },
  {
   "cell_type": "markdown",
   "metadata": {},
   "source": [
    "Keep in mind we are talking about space optimizations. If you are dealing with a few\n",
    "million objects and your machine has gigabytes of RAM, you should postpone such\n",
    "optimizations until they are actually warranted. Optimization is the altar where main‐\n",
    "tainability is sacrificed"
   ]
  },
  {
   "cell_type": "markdown",
   "metadata": {},
   "source": [
    "Adding items to a dict may change the order of existing keys\n",
    "\n",
    "Whenever you add a new item to a dict, the Python interpreter may decide that the\n",
    "hash table of that dictionary needs to grow. This entails building a new, bigger hash\n",
    "table, and adding all current items to the new table. During this process, new (but\n",
    "different) hash collisions may happen, with the result that the keys are likely to be or‐\n",
    "dered differently in the new hash table. All of this is implementation-dependent, so you\n",
    "cannot reliably predict when it will happen. If you are iterating over the dictionary keys\n",
    "and changing them at the same time, your loop may not scan all the items as expected\n",
    "—not even the items that were already in the dictionary before you added to it.\n",
    "\n",
    "This is why modifying the contents of a dict while iterating through it is a bad idea. If\n",
    "you need to scan and add items to a dictionary, do it in two steps: read the dict from\n",
    "start to finish and collect the needed additions in a second dict. Then update the first\n",
    "one with it."
   ]
  },
  {
   "cell_type": "code",
   "execution_count": null,
   "metadata": {},
   "outputs": [],
   "source": []
  }
 ],
 "metadata": {
  "kernelspec": {
   "display_name": "Python 3",
   "language": "python",
   "name": "python3"
  },
  "language_info": {
   "codemirror_mode": {
    "name": "ipython",
    "version": 3
   },
   "file_extension": ".py",
   "mimetype": "text/x-python",
   "name": "python",
   "nbconvert_exporter": "python",
   "pygments_lexer": "ipython3",
   "version": "3.12.3"
  }
 },
 "nbformat": 4,
 "nbformat_minor": 2
}
