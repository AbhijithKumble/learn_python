{
 "cells": [
  {
   "cell_type": "code",
   "execution_count": 1,
   "metadata": {},
   "outputs": [
    {
     "data": {
      "text/plain": [
       "'Overview of Built-In Sequences\\nThe standard library offers a rich selection of sequence types implemented in C:\\nContainer sequences\\nlist, tuple, and collections.deque can hold items of different types.\\n\\nFlat sequences\\nstr, bytes, bytearray, memoryview, and array.array hold items of one type.\\n\\nContainer sequences hold references to the objects they contain, which may be of any\\ntype, while flat sequences physically store the value of each item within its own memory\\nspace, and not as distinct objects. Thus, flat sequences are more compact, but they are\\nlimited to holding primitive values like characters, bytes, and numbers.\\n\\nAnother way of grouping sequence types is by mutability:\\nMutable sequences\\nlist, bytearray, array.array, collections.deque, and memoryview\\n\\nImmutable sequences\\ntuple, str, and bytes'"
      ]
     },
     "execution_count": 1,
     "metadata": {},
     "output_type": "execute_result"
    }
   ],
   "source": [
    "'''Overview of Built-In Sequences\n",
    "The standard library offers a rich selection of sequence types implemented in C:\n",
    "Container sequences\n",
    "list, tuple, and collections.deque can hold items of different types.\n",
    "\n",
    "Flat sequences\n",
    "str, bytes, bytearray, memoryview, and array.array hold items of one type.\n",
    "\n",
    "Container sequences hold references to the objects they contain, which may be of any\n",
    "type, while flat sequences physically store the value of each item within its own memory\n",
    "space, and not as distinct objects. Thus, flat sequences are more compact, but they are\n",
    "limited to holding primitive values like characters, bytes, and numbers.\n",
    "\n",
    "Another way of grouping sequence types is by mutability:\n",
    "Mutable sequences\n",
    "list, bytearray, array.array, collections.deque, and memoryview\n",
    "\n",
    "Immutable sequences\n",
    "tuple, str, and bytes'''"
   ]
  },
  {
   "cell_type": "code",
   "execution_count": 2,
   "metadata": {},
   "outputs": [
    {
     "name": "stdout",
     "output_type": "stream",
     "text": [
      "[36, 162, 163, 165, 8364, 164]\n",
      "['a', 'b', 'c', 'd']\n",
      "2\n",
      "[162, 163, 165, 8364, 164]\n",
      "36\n",
      "[162, 163, 165, 8364, 164]\n"
     ]
    }
   ],
   "source": [
    "symbols = '$¢£¥€¤'\n",
    "\n",
    "##codes = []\n",
    "##for symbol in symbols:\n",
    "##    codes.append(ord(symbol))\n",
    "##print(codes)\n",
    "\n",
    "codes = [ord(symbol) for symbol in symbols]\n",
    "print(codes)\n",
    "\n",
    "x = '2'\n",
    "d = [x for x in \"abcd\"]\n",
    "print(d)\n",
    "print(x)\n",
    "\n",
    "beyond_ascii = [ord(s) for s in symbols if ord(s) > 127]\n",
    "print(beyond_ascii)\n",
    "p = map(ord, symbols)\n",
    "print(next(p))\n",
    "beyond_ascii = list(filter(lambda c: c > 127, map(ord, symbols)))\n",
    "print(beyond_ascii)"
   ]
  },
  {
   "cell_type": "code",
   "execution_count": 3,
   "metadata": {},
   "outputs": [
    {
     "name": "stdout",
     "output_type": "stream",
     "text": [
      "(1, 2, 3, 4, 5, 6, 7, 8, 9, 10)\n",
      "                |   lat.    |   long.  \n",
      "Mexico City     |   19.4333 |  -99.1333\n",
      "New York-Newark |   40.8086 |  -74.0204\n",
      "Sao Paulo       |  -23.5478 |  -46.6358\n"
     ]
    }
   ],
   "source": [
    "## tuple\n",
    "print(tuple(range(1, 11)))\n",
    "\n",
    "\n",
    "metro_areas = [\n",
    "('Tokyo', 'JP', 36.933, (35.689722, 139.691667)), \n",
    "('Delhi NCR', 'IN', 21.935, (28.613889, 77.208889)),\n",
    "('Mexico City', 'MX', 20.142, (19.433333, -99.133333)),\n",
    "('New York-Newark', 'US', 20.104, (40.808611, -74.020386)),\n",
    "('Sao Paulo', 'BR', 19.649, (-23.547778, -46.635833)),\n",
    "]\n",
    "print('{:15} | {:^9} | {:^9}'.format('', 'lat.', 'long.'))\n",
    "fmt = '{:15} | {:9.4f} | {:9.4f}'\n",
    "for name, cc, pop, (latitude, longitude) in metro_areas: #\n",
    "    if longitude <= 0: \n",
    "        print(fmt.format(name, latitude, longitude))"
   ]
  },
  {
   "cell_type": "code",
   "execution_count": 23,
   "metadata": {},
   "outputs": [
    {
     "name": "stdout",
     "output_type": "stream",
     "text": [
      "6\n",
      "('a', Ellipsis, 'z')\n"
     ]
    }
   ],
   "source": [
    "##slices and ellipsis\n",
    "s= [1,2,3,4,5,6,7,8,9,10]\n",
    "p=slice(2, 6)\n",
    "s[p]\n",
    "\n",
    "k = [[1, 2, 3],[4, 5, 6]]\n",
    "print(k[1][2])\n",
    "##\n",
    "''' \n",
    "    def f(arg1, ...)  ##... = other arguments\n",
    "'''\n",
    "print(('a', ..., 'z'))\n"
   ]
  },
  {
   "cell_type": "code",
   "execution_count": 36,
   "metadata": {},
   "outputs": [
    {
     "name": "stdout",
     "output_type": "stream",
     "text": [
      "[1, 2, 3, 4, 5, 6, 7, 8, 9, 10, 1, 2, 3, 4, 5, 6, 7, 8, 9, 10, 1, 2, 3, 4, 5, 6, 7, 8, 9, 10, 1, 2, 3, 4, 5, 6, 7, 8, 9, 10, 1, 2, 3, 4, 5, 6, 7, 8, 9, 10]\n",
      "[1, 4, 3, 4, 5, 6, 7, 8, 9, 10, 1, 2, 3, 4, 5, 6, 7, 8, 9, 10, 1, 2, 3, 4, 5, 6, 7, 8, 9, 10, 1, 2, 3, 4, 5, 6, 7, 8, 9, 10, 1, 2, 3, 4, 5, 6, 7, 8, 9, 10]\n",
      "[[2], [2], [2]]\n",
      "[[4], [4], [4]]\n",
      "\n",
      "\n",
      "[['_', '_', '_'], ['_', '_', '_'], ['_', '_', '_']]\n",
      "[['_', '_', '_'], ['_', '_', '_'], ['_', '_', 'X']]\n",
      "\n",
      "\n",
      "[['_', '_', '_'], ['_', '_', '_'], ['_', '_', '_']]\n",
      "[['_', '_', 'X'], ['_', '_', 'X'], ['_', '_', 'X']]\n"
     ]
    }
   ],
   "source": [
    "m = s*5\n",
    "print(m)\n",
    "m[1]=4\n",
    "print(m)\n",
    "\n",
    "## but when beware \n",
    "d = [[2]] * 3\n",
    "print(d)\n",
    "d[2][0]=4 ##whole innerlist is a reference to the same list \n",
    "print(d)\n",
    "\n",
    "\n",
    "##correct method\n",
    "\n",
    "print('\\n')\n",
    "c=[['_'] * 3 for i in range(3)]\n",
    "print(c)\n",
    "c[2][2]='X'\n",
    "print(c)\n",
    "print('\\n')\n",
    "\n",
    "#wrong method\n",
    "c=[['_'] * 3] * 3\n",
    "print(c)\n",
    "c[2][2]='X'\n",
    "print(c)"
   ]
  },
  {
   "cell_type": "code",
   "execution_count": null,
   "metadata": {},
   "outputs": [],
   "source": [
    "##Augmented assignement with sequences\n",
    "'''\n",
    "A += Assignment Puzzler\n",
    "Try to answer without using the console: what is the result of evaluating the two ex‐\n",
    "pressions in Example 2-14?4\n",
    "Example 2-14. A riddle\n",
    ">>> t = (1, 2, [30, 40])\n",
    ">>> t[2] += [50, 60]\n",
    "What happens next? Choose the best answer:\n",
    "a. t becomes (1, 2, [30, 40, 50, 60]).\n",
    "b. TypeError is raised with the message 'tuple' object does not support item\n",
    "assignment.\n",
    "c. Neither.\n",
    "d. Both a and b.\n",
    "When I saw this, I was pretty sure the answer was b, but it’s actually d, “Both a and b.”!\n",
    "Example 2-15 is the actual output from a Python 3.4 console (actually the result is the\n",
    "same in a Python 2.7 console).5\n",
    "Example 2-15. The unexpected result: item t2 is changed and an exception is raised\n",
    ">>> t = (1, 2, [30, 40])\n",
    ">>> t[2] += [50, 60]\n",
    "Traceback (most recent call last):\n",
    "File \"<stdin>\", line 1, in <module>\n",
    "TypeError: 'tuple' object does not support item assignment\n",
    ">>> t\n",
    "(1, 2, [30, 40, 50, 60])\n",
    "\n",
    "'''"
   ]
  },
  {
   "cell_type": "code",
   "execution_count": null,
   "metadata": {},
   "outputs": [],
   "source": [
    "##list.sort() sorts inplace , sorted(list, key={len, etc}, reverse={bool} )"
   ]
  },
  {
   "cell_type": "code",
   "execution_count": null,
   "metadata": {},
   "outputs": [],
   "source": [
    "##bisect does binary search on sorted list"
   ]
  },
  {
   "cell_type": "code",
   "execution_count": null,
   "metadata": {},
   "outputs": [],
   "source": [
    "## array \n",
    "'''\n",
    "If the list will only contain numbers, an array.array is more efficient than a list: it\n",
    "supports all mutable sequence operations (including .pop, .insert, and .extend), and\n",
    "additional methods for fast loading and saving such as .frombytes and .tofile.\n",
    "'''"
   ]
  },
  {
   "cell_type": "code",
   "execution_count": null,
   "metadata": {},
   "outputs": [],
   "source": [
    "## pickle module\n",
    "## fast as array methods and also can be used on other data types\n"
   ]
  },
  {
   "cell_type": "code",
   "execution_count": 16,
   "metadata": {},
   "outputs": [
    {
     "name": "stdout",
     "output_type": "stream",
     "text": [
      "0x7fabb03daa20\n",
      "<memory at 0x7fabb8075b40>\n",
      "memv in list :  [-2, -1, 0, 1, 2]\n",
      "<memory at 0x7fabb80765c0>\n",
      "[254, 255, 255, 255, 0, 0, 1, 0, 2, 0]\n"
     ]
    }
   ],
   "source": [
    "##memory view\n",
    "import array\n",
    "\n",
    "numbers = array.array('h', [-2, -1, 0, 1, 2])\n",
    "print(hex(id(numbers)))\n",
    "##what is the meaning of h? \n",
    "## ans: short signed integer (-32768 to 32767)\n",
    "memv = memoryview(numbers)\n",
    "print(memv)\n",
    "print('memv in list : ', memv.tolist())\n",
    "memv_oct = memv.cast('B')\n",
    "print(memv_oct)\n",
    "print(memv_oct.tolist())"
   ]
  },
  {
   "cell_type": "code",
   "execution_count": 15,
   "metadata": {},
   "outputs": [
    {
     "name": "stdout",
     "output_type": "stream",
     "text": [
      "Before updation: bytearray(b'ABC')\n",
      "bytearray(b'ABC')\n",
      "[65, 66, 67]\n",
      "After updation: bytearray(b'AZC')\n"
     ]
    }
   ],
   "source": [
    "# memory view in clear manner\n",
    "\n",
    "random_byte_array = bytearray('ABC', 'utf-8')\n",
    "print('Before updation:', random_byte_array)\n",
    "mv = memoryview(random_byte_array)\n",
    "print(mv.tolist())\n",
    "# update 1st index of mv to Z\n",
    "mv[1] = 90\n",
    "print('After updation:', random_byte_array)"
   ]
  },
  {
   "cell_type": "markdown",
   "metadata": {},
   "source": [
    "'''For advanced array and matrix operations, NumPy and SciPy are the reason why Python\n",
    "became mainstream in scientific computing applications. NumPy implements multi-\n",
    "dimensional, homogeneous arrays and matrix types that hold not only numbers but\n",
    "also user-defined records, and provides efficient elementwise operations.\n",
    "SciPy is a library, written on top of NumPy, offering many scientific computing algo‐\n",
    "rithms from linear algebra, numerical calculus, and statistics. SciPy is fast and reliable\n",
    "because it leverages the widely used C and Fortran code base from the Netlib Reposi‐\n",
    "tory. In other words, SciPy gives scientists the best of both worlds: an interactive prompt\n",
    "and high-level Python APIs, together with industrial-strength number-crunching func‐\n",
    "tions optimized in C and Fortran.\n",
    "    '''"
   ]
  },
  {
   "cell_type": "code",
   "execution_count": null,
   "metadata": {},
   "outputs": [],
   "source": [
    "## python provides thread safe deques , heapq, etc in collections library(pythons standard library) "
   ]
  }
 ],
 "metadata": {
  "kernelspec": {
   "display_name": "Python 3",
   "language": "python",
   "name": "python3"
  },
  "language_info": {
   "codemirror_mode": {
    "name": "ipython",
    "version": 3
   },
   "file_extension": ".py",
   "mimetype": "text/x-python",
   "name": "python",
   "nbconvert_exporter": "python",
   "pygments_lexer": "ipython3",
   "version": "3.12.3"
  }
 },
 "nbformat": 4,
 "nbformat_minor": 2
}
